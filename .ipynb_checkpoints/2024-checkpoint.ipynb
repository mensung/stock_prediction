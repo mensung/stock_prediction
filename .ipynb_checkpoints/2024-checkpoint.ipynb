{
 "cells": [
  {
   "cell_type": "code",
   "execution_count": 2,
   "id": "512824d3-1e39-4a7f-87e1-f46b70e3e26f",
   "metadata": {},
   "outputs": [],
   "source": [
    "import pandas as pd\n",
    "from tqdm import tqdm\n",
    "\n",
    "import warnings\n",
    "warnings.filterwarnings('ignore')"
   ]
  },
  {
   "cell_type": "code",
   "execution_count": 3,
   "id": "234fb3d6-d28a-458b-872c-d186d0fe0825",
   "metadata": {},
   "outputs": [
    {
     "data": {
      "text/html": [
       "<div>\n",
       "<style scoped>\n",
       "    .dataframe tbody tr th:only-of-type {\n",
       "        vertical-align: middle;\n",
       "    }\n",
       "\n",
       "    .dataframe tbody tr th {\n",
       "        vertical-align: top;\n",
       "    }\n",
       "\n",
       "    .dataframe thead th {\n",
       "        text-align: right;\n",
       "    }\n",
       "</style>\n",
       "<table border=\"1\" class=\"dataframe\">\n",
       "  <thead>\n",
       "    <tr style=\"text-align: right;\">\n",
       "      <th></th>\n",
       "      <th>종목코드</th>\n",
       "      <th>종목명</th>\n",
       "    </tr>\n",
       "  </thead>\n",
       "  <tbody>\n",
       "    <tr>\n",
       "      <th>0</th>\n",
       "      <td>005930</td>\n",
       "      <td>삼성전자</td>\n",
       "    </tr>\n",
       "    <tr>\n",
       "      <th>1</th>\n",
       "      <td>000660</td>\n",
       "      <td>SK하이닉스</td>\n",
       "    </tr>\n",
       "    <tr>\n",
       "      <th>2</th>\n",
       "      <td>207940</td>\n",
       "      <td>삼성바이오로직스</td>\n",
       "    </tr>\n",
       "    <tr>\n",
       "      <th>3</th>\n",
       "      <td>005490</td>\n",
       "      <td>POSCO홀딩스</td>\n",
       "    </tr>\n",
       "    <tr>\n",
       "      <th>4</th>\n",
       "      <td>006400</td>\n",
       "      <td>삼성SDI</td>\n",
       "    </tr>\n",
       "    <tr>\n",
       "      <th>...</th>\n",
       "      <td>...</td>\n",
       "      <td>...</td>\n",
       "    </tr>\n",
       "    <tr>\n",
       "      <th>297</th>\n",
       "      <td>003100</td>\n",
       "      <td>선광</td>\n",
       "    </tr>\n",
       "    <tr>\n",
       "      <th>298</th>\n",
       "      <td>001230</td>\n",
       "      <td>동국홀딩스</td>\n",
       "    </tr>\n",
       "    <tr>\n",
       "      <th>299</th>\n",
       "      <td>460850</td>\n",
       "      <td>동국씨엠</td>\n",
       "    </tr>\n",
       "    <tr>\n",
       "      <th>300</th>\n",
       "      <td>016710</td>\n",
       "      <td>대성홀딩스</td>\n",
       "    </tr>\n",
       "    <tr>\n",
       "      <th>301</th>\n",
       "      <td>004360</td>\n",
       "      <td>세방</td>\n",
       "    </tr>\n",
       "  </tbody>\n",
       "</table>\n",
       "<p>302 rows × 2 columns</p>\n",
       "</div>"
      ],
      "text/plain": [
       "       종목코드       종목명\n",
       "0    005930      삼성전자\n",
       "1    000660    SK하이닉스\n",
       "2    207940  삼성바이오로직스\n",
       "3    005490  POSCO홀딩스\n",
       "4    006400     삼성SDI\n",
       "..      ...       ...\n",
       "297  003100        선광\n",
       "298  001230     동국홀딩스\n",
       "299  460850      동국씨엠\n",
       "300  016710     대성홀딩스\n",
       "301  004360        세방\n",
       "\n",
       "[302 rows x 2 columns]"
      ]
     },
     "execution_count": 3,
     "metadata": {},
     "output_type": "execute_result"
    }
   ],
   "source": [
    "# KRX300종목 데이터 불러오기\n",
    "df_code = pd.read_csv('KRX300_code.csv', encoding = 'cp949')\n",
    "df_code = df_code.iloc[:,:2]\n",
    "df_code.종목코드 = df_code.종목코드.apply(lambda x : format(x, '06'))\n",
    "df_code"
   ]
  },
  {
   "cell_type": "code",
   "execution_count": 4,
   "id": "60e4c8b8-be43-47b1-9a29-9725d03470d6",
   "metadata": {},
   "outputs": [
    {
     "name": "stderr",
     "output_type": "stream",
     "text": [
      "302it [02:12,  2.28it/s]\n"
     ]
    }
   ],
   "source": [
    "# 분석 기간 설정 후 데이터 불러오기\n",
    "import FinanceDataReader as fdr\n",
    "import numpy as np\n",
    "\n",
    "code = df_code.종목코드\n",
    "name = df_code.종목명\n",
    "df = pd.DataFrame()\n",
    "\n",
    "for i,j in tqdm(zip(code, name)):\n",
    "    df1 = fdr.DataReader(i,'2023-09-01','2024-01-01')\n",
    "    df1['종목코드'] = i\n",
    "    df1['종목명'] = j\n",
    "    df = pd.concat([df, df1])\n",
    "\n",
    "\n",
    "df = df.sort_values(\"Date\")"
   ]
  },
  {
   "cell_type": "code",
   "execution_count": 5,
   "id": "57574d5f-3972-49f7-a81a-ce0f14593f3b",
   "metadata": {},
   "outputs": [],
   "source": [
    "df['log_Change'] = np.log(df['Change'] + 1)"
   ]
  },
  {
   "cell_type": "code",
   "execution_count": 6,
   "id": "9e7cacd1-0dd8-4cbf-9db2-16c563f55a61",
   "metadata": {},
   "outputs": [
    {
     "data": {
      "text/plain": [
       "종목명\n",
       "셀트리온헬스케어    8\n",
       "카나리아바이오     1\n",
       "Name: count, dtype: int64"
      ]
     },
     "execution_count": 6,
     "metadata": {},
     "output_type": "execute_result"
    }
   ],
   "source": [
    "df.query('Volume == 0')['종목명'].value_counts()"
   ]
  },
  {
   "cell_type": "code",
   "execution_count": 7,
   "id": "67bdf699-9163-4e80-b9ba-a05c9e221062",
   "metadata": {},
   "outputs": [
    {
     "name": "stderr",
     "output_type": "stream",
     "text": [
      "100%|███████████████████████████████████████| 302/302 [00:00<00:00, 1595.68it/s]\n"
     ]
    }
   ],
   "source": [
    "#회사별로 분류해서 3차원 데이터프레임 만들기\n",
    "df_ls = []\n",
    "\n",
    "for i in tqdm(code):\n",
    "    df_ls.append(df[df.종목코드 == i])\n"
   ]
  },
  {
   "cell_type": "code",
   "execution_count": 8,
   "id": "76b3be0b-8833-46a6-980b-ca0cbb73e673",
   "metadata": {},
   "outputs": [],
   "source": [
    "# 최근 100일 안에 거래정지된 회사들 뽑는 함수\n",
    "# 피처를 만드려면 약 100일 간의 정상적인 거래 데이터가 있어야 하기 때문에\n",
    "# 뽑은 회사들은 거래를 하지 않는 가운데 순위에 들어갈 예정이다.\n",
    "def Abnormal_trading(df, code):\n",
    "    \n",
    "    trading100 = []\n",
    "    for i in tqdm(df):\n",
    "        trading100.append(i.iloc[-100:].Volume == 0)\n",
    "            \n",
    "    trading100_set = []\n",
    "    for i in trading100:\n",
    "        trading100_set.append(set(i))\n",
    "        \n",
    "    stop_trading = []\n",
    "    for i,j in zip(code, trading100_set):\n",
    "        if True in j:\n",
    "            stop_trading.append(i)\n",
    "            \n",
    "    return stop_trading\n",
    "\n",
    "# 뽑은 회사들을 전체 종목코드에서 삭제 후, 반환하는 함수\n",
    "def Make_trading_code(code, stop):\n",
    "    a = list(code)\n",
    "    for i in stop:\n",
    "        a.remove(i)\n",
    "\n",
    "    return a"
   ]
  },
  {
   "cell_type": "code",
   "execution_count": 9,
   "id": "79fae14c-1083-4836-8562-9177ba44cce2",
   "metadata": {},
   "outputs": [
    {
     "name": "stderr",
     "output_type": "stream",
     "text": [
      "100%|██████████████████████████████████████| 302/302 [00:00<00:00, 31666.20it/s]\n"
     ]
    },
    {
     "data": {
      "text/plain": [
       "(2, 300)"
      ]
     },
     "execution_count": 9,
     "metadata": {},
     "output_type": "execute_result"
    }
   ],
   "source": [
    "stop_trading = Abnormal_trading(df_ls, code)\n",
    "trading_code = Make_trading_code(code, stop_trading)\n",
    "\n",
    "len(stop_trading), len(trading_code)"
   ]
  },
  {
   "cell_type": "code",
   "execution_count": 10,
   "id": "af0d341b-375e-442e-a024-91c2bcf64884",
   "metadata": {},
   "outputs": [
    {
     "name": "stderr",
     "output_type": "stream",
     "text": [
      "100%|███████████████████████████████████████| 300/300 [00:00<00:00, 1627.32it/s]\n"
     ]
    }
   ],
   "source": [
    "# 최근 100일간의 데이터만 회사별로 추출\n",
    "df_lst = []\n",
    "\n",
    "for i in tqdm(trading_code):\n",
    "    df_lst.append(df[df.종목코드 == i].iloc[-100:])\n",
    "\n",
    "del df_ls"
   ]
  },
  {
   "cell_type": "code",
   "execution_count": 11,
   "id": "eca4bc7c-a778-457e-9982-0df0ed05e4c1",
   "metadata": {},
   "outputs": [
    {
     "name": "stderr",
     "output_type": "stream",
     "text": [
      "100%|████████████████████████████████████████| 300/300 [00:00<00:00, 706.81it/s]\n"
     ]
    }
   ],
   "source": [
    "# RSI, StochasticOscillator, MACD, BollingerBands 추가\n",
    "from ta.momentum import RSIIndicator\n",
    "from ta.momentum import StochasticOscillator\n",
    "from ta.trend import MACD\n",
    "from ta.volatility import BollingerBands\n",
    "\n",
    "for i in tqdm(df_lst):\n",
    "    \n",
    "    calc_RSI = RSIIndicator(i[\"Close\"], window = 14, fillna = False)\n",
    "    i['RSI'] = calc_RSI.rsi()\n",
    "\n",
    "\n",
    "    calc_stoch = StochasticOscillator(i['High'], i['Low'], i['Close'], window = 14, smooth_window = 3, fillna = False)\n",
    "    i['stoch'] = calc_stoch.stoch()\n",
    "    stoch_signal = pd.Series(calc_stoch.stoch_signal())\n",
    "    i['stoch_diff'] = i['stoch'] - stoch_signal\n",
    "\n",
    "    calc_MACD = MACD(i['Close'], window_slow = 26, window_fast = 12,\n",
    "                    window_sign = 9, fillna = False)\n",
    "    i['MACD'] = calc_MACD.macd()\n",
    "    i['MACD_diff'] = calc_MACD.macd_diff()\n",
    "\n",
    "    calc_Boll = BollingerBands(i['Close'], window = 20, window_dev = 2, fillna = False)\n",
    "    i['Boll_h_i'] = calc_Boll.bollinger_hband_indicator()\n",
    "    i['Boll_l_i'] = calc_Boll.bollinger_lband_indicator()\n",
    "    \n",
    "    i['Boll_p'] = calc_Boll.bollinger_pband()"
   ]
  },
  {
   "cell_type": "code",
   "execution_count": 12,
   "id": "b536eb9d-62d7-4580-8904-991c74a2dafa",
   "metadata": {},
   "outputs": [
    {
     "name": "stderr",
     "output_type": "stream",
     "text": [
      "100%|████████████████████████████████████████| 300/300 [00:00<00:00, 694.91it/s]\n"
     ]
    }
   ],
   "source": [
    "# 40일 기준 합산 변동률 구하기 \n",
    "sum_change = []\n",
    "\n",
    "for i in tqdm(df_lst):\n",
    "    sum_change_part = [0 for i in range(39)]\n",
    "    for j in range(len(i) - 39):\n",
    "        a = i[j:j+40].Change.sum()\n",
    "        sum_change_part.append(a)\n",
    "    sum_change.append(sum_change_part)\n",
    "    \n",
    "# 합산 변동률 열 추가\n",
    "for i, j in zip(sum_change, df_lst):\n",
    "    j['sum_change'] = i"
   ]
  },
  {
   "cell_type": "code",
   "execution_count": 13,
   "id": "bc63806c-1c29-4e52-a63d-506ef80a1dc7",
   "metadata": {},
   "outputs": [
    {
     "name": "stderr",
     "output_type": "stream",
     "text": [
      "100%|███████████████████████████████████████| 300/300 [00:00<00:00, 5972.89it/s]\n"
     ]
    }
   ],
   "source": [
    "# X 필오한 열만 자르기 (종목코드, 종목명, Change 삭제)\n",
    "df_lst2 = []\n",
    "\n",
    "for a in tqdm(df_lst):\n",
    "    a_1 = a.iloc[:,4:]\n",
    "    a_2 = a_1.drop(['종목코드', '종목명', 'Change'], axis = 1)\n",
    "    df_lst2.append(a_2)"
   ]
  },
  {
   "cell_type": "code",
   "execution_count": 14,
   "id": "c7be9cdc-48ed-4ce9-b519-ba4d48fd09e8",
   "metadata": {},
   "outputs": [
    {
     "name": "stderr",
     "output_type": "stream",
     "text": [
      "100%|████████████████████████████████████████| 300/300 [00:00<00:00, 837.49it/s]\n"
     ]
    }
   ],
   "source": [
    "# 정규화\n",
    "import numpy as np\n",
    "from sklearn.preprocessing import StandardScaler, MinMaxScaler\n",
    "\n",
    "scaled_df_lst2 = []\n",
    "\n",
    "mm = ['RSI', 'stoch', 'Boll_h_i', 'Boll_l_i']\n",
    "st = ['Volume', 'log_Change', 'sum_change', 'Boll_p', 'stoch_diff', 'MACD', 'MACD_diff']\n",
    "\n",
    "for i in tqdm(df_lst2):\n",
    "    # x 정규화\n",
    "    standard_scaler = StandardScaler()\n",
    "    standard_scaler = standard_scaler.fit_transform(i[['Volume', 'log_Change', 'sum_change', 'Boll_p', 'stoch_diff', 'MACD', 'MACD_diff']])\n",
    "    standard_scaler = pd.DataFrame(standard_scaler)\n",
    "    standard_scaler.columns = st\n",
    "    \n",
    "    minmax_scaler = MinMaxScaler()\n",
    "    minmax_scaler = minmax_scaler.fit_transform(i[['RSI', 'stoch', 'Boll_h_i', 'Boll_l_i']])\n",
    "    minmax_scaler = pd.DataFrame(minmax_scaler)\n",
    "    minmax_scaler.columns = mm\n",
    "    \n",
    "    scaled_df = pd.concat([standard_scaler, minmax_scaler], axis = 1)\n",
    "    scaled_df_lst2.append(scaled_df)\n",
    "    \n",
    "del df_lst2"
   ]
  },
  {
   "cell_type": "code",
   "execution_count": 15,
   "id": "53cd82ae-6763-4e11-8786-c271872e5069",
   "metadata": {},
   "outputs": [],
   "source": [
    "# 지표가 다 만들어진 이후에는 최근 40일간의 데이터가 필요\n",
    "scaled_df_lst3 = []\n",
    "for i in scaled_df_lst2:\n",
    "    scaled_df_lst3.append(i.iloc[-40:])\n",
    "\n",
    "del scaled_df_lst2"
   ]
  },
  {
   "cell_type": "code",
   "execution_count": 16,
   "id": "0541ef02-39d7-4e2e-974c-505cc6e41c58",
   "metadata": {},
   "outputs": [
    {
     "name": "stdout",
     "output_type": "stream",
     "text": [
      "X_test Shape : (300, 40, 11)\n"
     ]
    }
   ],
   "source": [
    "X_test = np.array(scaled_df_lst3)\n",
    "print('X_test Shape :', X_test.shape)"
   ]
  },
  {
   "cell_type": "code",
   "execution_count": 17,
   "id": "8b87539c-8a3d-4c79-bdc0-dfb794aa5943",
   "metadata": {},
   "outputs": [
    {
     "name": "stdout",
     "output_type": "stream",
     "text": [
      "X_test_tensors Shape : torch.Size([300, 40, 11])\n"
     ]
    }
   ],
   "source": [
    "# 데이터셋 형태, 크기 조정\n",
    "import torch\n",
    "from torch.autograd import Variable\n",
    "\n",
    "X_test_tensors = Variable(torch.Tensor(X_test))\n",
    "\n",
    "print('X_test_tensors Shape :', X_test_tensors.shape)"
   ]
  },
  {
   "cell_type": "code",
   "execution_count": null,
   "id": "3f6efe94-6bb3-4bbe-9843-ba87f63989f4",
   "metadata": {},
   "outputs": [],
   "source": [
    "del X_test"
   ]
  },
  {
   "cell_type": "markdown",
   "id": "ca48db56-4863-4ec7-aabe-19ba9cdda3d6",
   "metadata": {},
   "source": [
    "### prediction"
   ]
  },
  {
   "cell_type": "code",
   "execution_count": 29,
   "id": "5a336bb4-a654-4510-8e58-216c00c28cb0",
   "metadata": {},
   "outputs": [],
   "source": [
    "import os\n",
    "import time\n",
    "\n",
    "import numpy as np\n",
    "import pandas as pd\n",
    "import matplotlib.pyplot as plt\n",
    "\n",
    "import torch\n",
    "import torch.nn as nn\n",
    "from torch.utils.data import TensorDataset, DataLoader\n",
    "from torch.autograd import Variable\n",
    "from tqdm import tqdm_notebook\n",
    "from sklearn.preprocessing import StandardScaler, MinMaxScaler\n",
    "from sklearn.model_selection import train_test_split\n",
    "\n",
    "#device = torch.device('cuda:0' if torch.cuda.is_available() else 'cpu')"
   ]
  },
  {
   "cell_type": "code",
   "execution_count": 25,
   "id": "8c3a30de-2087-4720-b4e4-a4a97e475c8d",
   "metadata": {},
   "outputs": [
    {
     "name": "stdout",
     "output_type": "stream",
     "text": [
      "MPS 장치를 지원하도록 build가 되었는가? True\n",
      "MPS 장치가 사용 가능한가? True\n"
     ]
    },
    {
     "data": {
      "text/plain": [
       "device(type='mps')"
      ]
     },
     "execution_count": 25,
     "metadata": {},
     "output_type": "execute_result"
    }
   ],
   "source": [
    "import torch\n",
    "print(f\"MPS 장치를 지원하도록 build가 되었는가? {torch.backends.mps.is_built()}\")\n",
    "print(f\"MPS 장치가 사용 가능한가? {torch.backends.mps.is_available()}\") \n",
    "\n",
    "device = torch.device(\"mps\"); device"
   ]
  },
  {
   "cell_type": "code",
   "execution_count": 30,
   "id": "8cd0bada-2e26-45b2-a6ac-dedab9beec09",
   "metadata": {},
   "outputs": [],
   "source": [
    "# 변수값 설정\n",
    "\n",
    "input_size=11 # number of feature\n",
    "hidden_size=5 # number of feature in hidden state\n",
    "num_layers=2 # number of stacked lstm layer\n",
    "\n",
    "num_classes=1 # number of output classes"
   ]
  },
  {
   "cell_type": "code",
   "execution_count": 34,
   "id": "2f87d3ba-0844-477c-9309-bd1ff54ecc14",
   "metadata": {},
   "outputs": [],
   "source": [
    "class LSTM(nn.Module) :\n",
    "    def __init__(self, num_classes, input_size, hidden_size, num_layers, seq_length) :\n",
    "        super(LSTM, self).__init__()\n",
    "        self.num_classes = num_classes\n",
    "        self.num_layers = num_layers\n",
    "        self.input_size = input_size\n",
    "        self.hidden_size = hidden_size\n",
    "        self.seq_length = seq_length\n",
    "        \n",
    "        self.lstm = nn.LSTM(input_size=input_size, hidden_size=hidden_size,\n",
    "                           num_layers=num_layers, batch_first=True)\n",
    "        self.fc_1 = nn.Linear(hidden_size, 128)\n",
    "        self.fc_2 = nn.Linear(128, 64)\n",
    "        self.fc = nn.Linear(64, num_classes)\n",
    "        self.relu = nn.ReLU()\n",
    "        \n",
    "    def forward(self, x) :\n",
    "        h_0 = Variable(torch.zeros(self.num_layers, x.size(0), self.hidden_size))\n",
    "        c_0 = Variable(torch.zeros(self.num_layers, x.size(0), self.hidden_size))\n",
    "        \n",
    "        output, (hn, cn) = self.lstm(x, (h_0, c_0))\n",
    "        \n",
    "        hn = hn.view(-1, self.hidden_size)\n",
    "        out = self.relu(hn)\n",
    "        out = torch.nan_to_num(out) # nan loss가 나오길래 넣었더니 해결됨\n",
    "        out = self.fc_1(out)\n",
    "        out = self.relu(out)\n",
    "        out = self.fc_2(out)\n",
    "        out = self.relu(out)\n",
    "        out = self.fc(out)\n",
    "        n = int(len(out)/num_layers)\n",
    "        out2 = out[-n:]\n",
    "        \n",
    "        return out2"
   ]
  },
  {
   "cell_type": "code",
   "execution_count": 38,
   "id": "7bbef4a0-9ad0-49ef-ae31-2b45c6a24e34",
   "metadata": {},
   "outputs": [
    {
     "data": {
      "text/plain": [
       "LSTM(\n",
       "  (lstm): LSTM(11, 5, num_layers=2, batch_first=True)\n",
       "  (fc_1): Linear(in_features=5, out_features=128, bias=True)\n",
       "  (fc_2): Linear(in_features=128, out_features=64, bias=True)\n",
       "  (fc): Linear(in_features=64, out_features=1, bias=True)\n",
       "  (relu): ReLU()\n",
       ")"
      ]
     },
     "execution_count": 38,
     "metadata": {},
     "output_type": "execute_result"
    }
   ],
   "source": [
    "# 모델 불러오기\n",
    "PATH = \"lstm_7_23_jinsim_h5.pth\"\n",
    "\n",
    "model = LSTM(num_classes, input_size, hidden_size, num_layers, 40)\n",
    "model.load_state_dict(torch.load(PATH, map_location=torch.device('cpu')), strict=False)\n",
    "model.eval()"
   ]
  },
  {
   "cell_type": "code",
   "execution_count": 39,
   "id": "084d1ac5-fa8d-4f2d-9e0f-e2db61e74271",
   "metadata": {},
   "outputs": [],
   "source": [
    "# 예측\n",
    "with torch.no_grad(): \n",
    "    predicted22 = model(X_test_tensors.to(device))"
   ]
  },
  {
   "cell_type": "code",
   "execution_count": 40,
   "id": "af740e23-fe6c-4169-b148-375fb953e2b5",
   "metadata": {},
   "outputs": [],
   "source": [
    "# 예측값과 종목코드 합치기\n",
    "pred = predicted22.tolist()\n",
    "\n",
    "pred = pd.Series(pred)\n",
    "trading_code = pd.Series(trading_code)\n",
    "\n",
    "result = pd.concat([pred, trading_code], axis = 1)\n",
    "result.columns = ['pred', '종목코드']\n",
    "\n",
    "# 예측값 하나하나가 리스트안에 들어가있는 형태이므로 리스트 밖으로 꺼내서 실수형으로 만들어주기\n",
    "for i in range(len(result)):\n",
    "    result['pred'][i] = result['pred'][i][0]\n",
    "    \n",
    "result = result.astype({'pred' : 'float'})"
   ]
  },
  {
   "cell_type": "code",
   "execution_count": 43,
   "id": "e2ac51ea-8035-481e-bd00-8c0dc16d5056",
   "metadata": {},
   "outputs": [
    {
     "data": {
      "text/html": [
       "<div>\n",
       "<style scoped>\n",
       "    .dataframe tbody tr th:only-of-type {\n",
       "        vertical-align: middle;\n",
       "    }\n",
       "\n",
       "    .dataframe tbody tr th {\n",
       "        vertical-align: top;\n",
       "    }\n",
       "\n",
       "    .dataframe thead th {\n",
       "        text-align: right;\n",
       "    }\n",
       "</style>\n",
       "<table border=\"1\" class=\"dataframe\">\n",
       "  <thead>\n",
       "    <tr style=\"text-align: right;\">\n",
       "      <th></th>\n",
       "      <th>pred</th>\n",
       "      <th>종목코드</th>\n",
       "      <th>순위</th>\n",
       "      <th>종목명</th>\n",
       "    </tr>\n",
       "  </thead>\n",
       "  <tbody>\n",
       "    <tr>\n",
       "      <th>0</th>\n",
       "      <td>0.131622</td>\n",
       "      <td>029780</td>\n",
       "      <td>1</td>\n",
       "      <td>삼성카드</td>\n",
       "    </tr>\n",
       "    <tr>\n",
       "      <th>1</th>\n",
       "      <td>0.111820</td>\n",
       "      <td>294870</td>\n",
       "      <td>2</td>\n",
       "      <td>HDC현대산업개발</td>\n",
       "    </tr>\n",
       "    <tr>\n",
       "      <th>2</th>\n",
       "      <td>0.099892</td>\n",
       "      <td>005300</td>\n",
       "      <td>3</td>\n",
       "      <td>롯데칠성</td>\n",
       "    </tr>\n",
       "    <tr>\n",
       "      <th>3</th>\n",
       "      <td>0.098055</td>\n",
       "      <td>058470</td>\n",
       "      <td>4</td>\n",
       "      <td>리노공업</td>\n",
       "    </tr>\n",
       "    <tr>\n",
       "      <th>4</th>\n",
       "      <td>0.093342</td>\n",
       "      <td>280360</td>\n",
       "      <td>5</td>\n",
       "      <td>롯데웰푸드</td>\n",
       "    </tr>\n",
       "    <tr>\n",
       "      <th>5</th>\n",
       "      <td>0.084518</td>\n",
       "      <td>271560</td>\n",
       "      <td>6</td>\n",
       "      <td>오리온</td>\n",
       "    </tr>\n",
       "    <tr>\n",
       "      <th>6</th>\n",
       "      <td>0.083316</td>\n",
       "      <td>042700</td>\n",
       "      <td>7</td>\n",
       "      <td>한미반도체</td>\n",
       "    </tr>\n",
       "    <tr>\n",
       "      <th>7</th>\n",
       "      <td>0.077630</td>\n",
       "      <td>035760</td>\n",
       "      <td>8</td>\n",
       "      <td>CJ ENM</td>\n",
       "    </tr>\n",
       "    <tr>\n",
       "      <th>8</th>\n",
       "      <td>0.072724</td>\n",
       "      <td>161390</td>\n",
       "      <td>9</td>\n",
       "      <td>한국타이어앤테크놀로지</td>\n",
       "    </tr>\n",
       "    <tr>\n",
       "      <th>9</th>\n",
       "      <td>0.071931</td>\n",
       "      <td>259960</td>\n",
       "      <td>10</td>\n",
       "      <td>크래프톤</td>\n",
       "    </tr>\n",
       "    <tr>\n",
       "      <th>10</th>\n",
       "      <td>0.071748</td>\n",
       "      <td>078340</td>\n",
       "      <td>11</td>\n",
       "      <td>컴투스</td>\n",
       "    </tr>\n",
       "    <tr>\n",
       "      <th>11</th>\n",
       "      <td>0.071542</td>\n",
       "      <td>007070</td>\n",
       "      <td>12</td>\n",
       "      <td>GS리테일</td>\n",
       "    </tr>\n",
       "    <tr>\n",
       "      <th>12</th>\n",
       "      <td>0.071199</td>\n",
       "      <td>003410</td>\n",
       "      <td>13</td>\n",
       "      <td>쌍용C&amp;E</td>\n",
       "    </tr>\n",
       "    <tr>\n",
       "      <th>13</th>\n",
       "      <td>0.069231</td>\n",
       "      <td>051600</td>\n",
       "      <td>14</td>\n",
       "      <td>한전KPS</td>\n",
       "    </tr>\n",
       "    <tr>\n",
       "      <th>14</th>\n",
       "      <td>0.065227</td>\n",
       "      <td>017800</td>\n",
       "      <td>15</td>\n",
       "      <td>현대엘리베이</td>\n",
       "    </tr>\n",
       "  </tbody>\n",
       "</table>\n",
       "</div>"
      ],
      "text/plain": [
       "        pred    종목코드  순위          종목명\n",
       "0   0.131622  029780   1         삼성카드\n",
       "1   0.111820  294870   2    HDC현대산업개발\n",
       "2   0.099892  005300   3         롯데칠성\n",
       "3   0.098055  058470   4         리노공업\n",
       "4   0.093342  280360   5        롯데웰푸드\n",
       "5   0.084518  271560   6          오리온\n",
       "6   0.083316  042700   7        한미반도체\n",
       "7   0.077630  035760   8       CJ ENM\n",
       "8   0.072724  161390   9  한국타이어앤테크놀로지\n",
       "9   0.071931  259960  10         크래프톤\n",
       "10  0.071748  078340  11          컴투스\n",
       "11  0.071542  007070  12        GS리테일\n",
       "12  0.071199  003410  13        쌍용C&E\n",
       "13  0.069231  051600  14        한전KPS\n",
       "14  0.065227  017800  15       현대엘리베이"
      ]
     },
     "execution_count": 43,
     "metadata": {},
     "output_type": "execute_result"
    }
   ],
   "source": [
    "result['순위'] = result['pred'].rank(method='first', ascending=False).astype('int') # 각 순위를 중복없이 생성\n",
    "result.sort_values('순위', inplace = True)\n",
    "result.reset_index(drop = True, inplace = True)\n",
    "merge_inner = pd.merge(result, df_code, on = '종목코드')\n",
    "merge_inner.head(15)"
   ]
  },
  {
   "cell_type": "code",
   "execution_count": null,
   "id": "c91ffff4-61ef-4f84-990f-e7b569633155",
   "metadata": {},
   "outputs": [],
   "source": []
  },
  {
   "cell_type": "code",
   "execution_count": null,
   "id": "98d1b432-5825-421b-99bd-ed2712e69769",
   "metadata": {},
   "outputs": [],
   "source": []
  },
  {
   "cell_type": "code",
   "execution_count": null,
   "id": "5077a96c-f7d6-4b90-8fec-578baee0fff5",
   "metadata": {},
   "outputs": [],
   "source": []
  },
  {
   "cell_type": "code",
   "execution_count": null,
   "id": "259040dd-0fd8-46eb-bf6a-721f8d2155ba",
   "metadata": {},
   "outputs": [],
   "source": []
  },
  {
   "cell_type": "code",
   "execution_count": null,
   "id": "a3f04301-3c12-43b5-aaf3-71317253b457",
   "metadata": {},
   "outputs": [],
   "source": []
  },
  {
   "cell_type": "code",
   "execution_count": null,
   "id": "d09c0281-5c11-46fe-9ba4-e781315694ab",
   "metadata": {},
   "outputs": [],
   "source": []
  },
  {
   "cell_type": "code",
   "execution_count": null,
   "id": "0f876c77-e297-4b55-abd9-5a6ead25b8e1",
   "metadata": {},
   "outputs": [],
   "source": []
  },
  {
   "cell_type": "code",
   "execution_count": null,
   "id": "3e142462-b06a-4faf-9c56-615c3a1f4182",
   "metadata": {},
   "outputs": [],
   "source": []
  },
  {
   "cell_type": "code",
   "execution_count": null,
   "id": "08054ca7-85bf-45b5-82d4-c0ad7456d256",
   "metadata": {},
   "outputs": [],
   "source": []
  },
  {
   "cell_type": "code",
   "execution_count": null,
   "id": "ad825b9c-7f03-4cca-badd-d2984b72c4e3",
   "metadata": {},
   "outputs": [],
   "source": []
  },
  {
   "cell_type": "code",
   "execution_count": null,
   "id": "6cd6f5be-7b83-47aa-aa41-61a66cc7b4b8",
   "metadata": {},
   "outputs": [],
   "source": []
  },
  {
   "cell_type": "code",
   "execution_count": null,
   "id": "6d080bc8-43fe-4024-96a1-f548514a61a3",
   "metadata": {},
   "outputs": [],
   "source": []
  },
  {
   "cell_type": "code",
   "execution_count": null,
   "id": "807caed7-6ad2-40cf-acd8-b755aa8aa6fe",
   "metadata": {},
   "outputs": [],
   "source": []
  },
  {
   "cell_type": "code",
   "execution_count": null,
   "id": "319cc037-566b-4c5f-986a-cee9bfa9eba1",
   "metadata": {},
   "outputs": [],
   "source": []
  },
  {
   "cell_type": "code",
   "execution_count": null,
   "id": "771a1617-b3fd-4fc0-aa91-039fc882fae0",
   "metadata": {},
   "outputs": [],
   "source": []
  },
  {
   "cell_type": "code",
   "execution_count": null,
   "id": "6a5708a9-db34-4347-bf5e-fd09eea9ff2a",
   "metadata": {},
   "outputs": [],
   "source": []
  },
  {
   "cell_type": "code",
   "execution_count": null,
   "id": "67f1b0e5-eb44-442c-b090-14560740b6dd",
   "metadata": {},
   "outputs": [],
   "source": []
  },
  {
   "cell_type": "code",
   "execution_count": null,
   "id": "e50aaac4-a201-4ac4-957a-3f25f2bc3954",
   "metadata": {},
   "outputs": [],
   "source": []
  },
  {
   "cell_type": "code",
   "execution_count": null,
   "id": "cb5d472a-f1ad-4e41-9bd9-c11d59781f8e",
   "metadata": {},
   "outputs": [],
   "source": []
  },
  {
   "cell_type": "code",
   "execution_count": null,
   "id": "f9739317-7f19-47ac-acfa-b2c177147ce8",
   "metadata": {},
   "outputs": [],
   "source": []
  },
  {
   "cell_type": "code",
   "execution_count": null,
   "id": "6de6d926-dda9-411a-a9e8-e5a66e4d8622",
   "metadata": {},
   "outputs": [],
   "source": []
  }
 ],
 "metadata": {
  "kernelspec": {
   "display_name": "Python 3 (ipykernel)",
   "language": "python",
   "name": "python3"
  },
  "language_info": {
   "codemirror_mode": {
    "name": "ipython",
    "version": 3
   },
   "file_extension": ".py",
   "mimetype": "text/x-python",
   "name": "python",
   "nbconvert_exporter": "python",
   "pygments_lexer": "ipython3",
   "version": "3.11.7"
  }
 },
 "nbformat": 4,
 "nbformat_minor": 5
}
